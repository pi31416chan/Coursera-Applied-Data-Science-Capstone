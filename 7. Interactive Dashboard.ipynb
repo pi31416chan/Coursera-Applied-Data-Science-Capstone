{
 "cells": [
  {
   "cell_type": "markdown",
   "id": "6c64b3a4-8eca-40b3-93ee-4d709200a1ae",
   "metadata": {},
   "source": [
    "# 7. SpaceX Launch Records Dashboard"
   ]
  },
  {
   "cell_type": "markdown",
   "id": "4185f807-7d3d-4d3c-b02a-c51ea81bd6a4",
   "metadata": {},
   "source": [
    "## Source Code"
   ]
  },
  {
   "cell_type": "markdown",
   "id": "de918fe6-1b91-47bd-911d-16ab7b5d58ba",
   "metadata": {},
   "source": [
    "```\n",
    "# Import required libraries\n",
    "import pandas as pd\n",
    "import dash\n",
    "import dash_html_components as html\n",
    "import dash_core_components as dcc\n",
    "from dash.dependencies import Input, Output\n",
    "import plotly.express as px\n",
    "\n",
    "# Read the airline data into pandas dataframe\n",
    "path = \"C:\\\\Users\\\\pi314\\Learning\\\\Data Science\\\\IBM Data Science Professional Certificate\\\\10 Applied Data Science Capstone\\\\\"\n",
    "spacex_df = pd.read_csv(path+\"7. spacex_launch_dash.csv\")\n",
    "max_payload = spacex_df['Payload Mass (kg)'].max()\n",
    "min_payload = spacex_df['Payload Mass (kg)'].min()\n",
    "\n",
    "dropdownoptions = [{'label':'All Sites','value':'ALL'}]\n",
    "[dropdownoptions.append({'label':x,'value':x}) for x in sorted(set(spacex_df['Launch Site']))]\n",
    "\n",
    "# Create a dash application\n",
    "app = dash.Dash(__name__)\n",
    "\n",
    "# Create an app layout\n",
    "app.layout = html.Div(children=[html.H1('SpaceX Launch Records Dashboard',\n",
    "                                        style={'textAlign': 'center', 'color': '#503D36',\n",
    "                                               'font-size': 40}),\n",
    "                                # TASK 1: Add a dropdown list to enable Launch Site selection\n",
    "                                # The default select value is for ALL sites\n",
    "                                dcc.Dropdown(id='site-dropdown',\n",
    "                                            options=dropdownoptions,\n",
    "                                            value='ALL',\n",
    "                                            placeholder='Select a Launch Site here',\n",
    "                                            searchable=True),\n",
    "                                html.Br(),\n",
    "\n",
    "                                # TASK 2: Add a pie chart to show the total successful launches count for all sites\n",
    "                                # If a specific launch site was selected, show the Success vs. Failed counts for the site\n",
    "                                html.Div(dcc.Graph(id='success-pie-chart')),\n",
    "                                html.Br(),\n",
    "\n",
    "                                html.P(\"Payload range (Kg):\"),\n",
    "                                # TASK 3: Add a slider to select payload range\n",
    "                                dcc.RangeSlider(id='payload-slider',\n",
    "                                                min=0,max=10000,step=1000,\n",
    "                                                value=[min_payload,max_payload]),\n",
    "\n",
    "                                # TASK 4: Add a scatter chart to show the correlation between payload and launch success\n",
    "                                html.Div(dcc.Graph(id='success-payload-scatter-chart')),\n",
    "                                ])\n",
    "\n",
    "# TASK 2:\n",
    "# Add a callback function for `site-dropdown` as input, `success-pie-chart` as output\n",
    "@app.callback(\n",
    "    Output(component_id='success-pie-chart',component_property='figure'),\n",
    "    Input(component_id='site-dropdown',component_property='value'),\n",
    ")\n",
    "def compute_graphs(site):\n",
    "    if site == 'ALL':\n",
    "        df_temp = spacex_df[spacex_df['class']==1]['Launch Site'].value_counts()\n",
    "    else:\n",
    "        df_temp = spacex_df[spacex_df['Launch Site'] == site].groupby('class')['Launch Site'].count()\n",
    "\n",
    "    fig = px.pie(df_temp,\n",
    "                names=df_temp.index,\n",
    "                values=df_temp.values,\n",
    "                color=df_temp.index,\n",
    "                title='Total Success Launches By Site',)\n",
    "\n",
    "    return fig\n",
    "\n",
    "# TASK 4:\n",
    "# Add a callback function for `site-dropdown` and `payload-slider` as inputs, `success-payload-scatter-chart` as output\n",
    "@app.callback(\n",
    "    Output(component_id='success-payload-scatter-chart',component_property='figure'),\n",
    "    [Input(component_id='site-dropdown',component_property='value'),\n",
    "    Input(component_id='payload-slider',component_property='value')],\n",
    ")\n",
    "def compute_graphs(site,slidervalues):\n",
    "    min = slidervalues[0]\n",
    "    max = slidervalues[1]\n",
    "\n",
    "    if site == 'ALL':\n",
    "        df_temp = spacex_df[['Launch Site','Booster Version Category','Payload Mass (kg)','class']]\n",
    "    else:\n",
    "        df_temp = spacex_df[spacex_df[\"Launch Site\"] == site][['Launch Site','Booster Version Category','Payload Mass (kg)','class']]\n",
    "    df_temp = df_temp[(df_temp['Payload Mass (kg)'] > int(min)) & (df_temp['Payload Mass (kg)'] < int(max))]\n",
    "\n",
    "    fig = px.scatter(df_temp,\n",
    "                    x='Payload Mass (kg)',\n",
    "                    y='class',\n",
    "                    # color='Launch Site' if site == 'ALL' else df_temp['class'].apply(str).sort_values(),\n",
    "                    color='Booster Version Category',\n",
    "                    title='Correlation between Payload and Success for all Sites',)\n",
    "\n",
    "    return fig\n",
    "\n",
    "# Run the app\n",
    "if __name__ == '__main__':\n",
    "    app.run_server()\n",
    "```"
   ]
  },
  {
   "cell_type": "markdown",
   "id": "731cc98b-3e8c-44d0-b6ec-22f290693f4b",
   "metadata": {},
   "source": [
    "## Dashboard Preview"
   ]
  },
  {
   "cell_type": "markdown",
   "id": "537b635c-90fb-4a9d-9e8b-eeaeb5dc8a1a",
   "metadata": {},
   "source": [
    "![image](https://raw.githubusercontent.com/pi31416chan/Coursera-Applied-Data-Science-Capstone/bd3384d2454564d08b7b337d532d28c21ce4f85f/7.%20SpaceX%20Launch%20Records%20Dashboard.png?token=GHSAT0AAAAAABW35LRCT3IHV6GQMERVRTSAYXCNGXQ)"
   ]
  },
  {
   "cell_type": "markdown",
   "id": "58178bbe-74d4-4e19-9510-091da5f31eae",
   "metadata": {},
   "source": [
    "## Finding Insights Visually\n",
    "Now with the dashboard completed, you should be able to use it to analyze SpaceX launch data, and answer the following questions:\n",
    "\n",
    "Which site has the largest successful launches?\\\n",
    "Which site has the highest launch success rate?\\\n",
    "Which payload range(s) has the highest launch success rate?\\\n",
    "Which payload range(s) has the lowest launch success rate?\\\n",
    "Which F9 Booster version (v1.0, v1.1, FT, B4, B5, etc.) has the highest launch success rate?"
   ]
  },
  {
   "cell_type": "markdown",
   "id": "2101eddf-8faf-4954-bd11-64efb42f932c",
   "metadata": {},
   "source": [
    "1. KSC LC-39A\n",
    "2. KSC LC-39A\n",
    "3. Around 2000 to 6000\n",
    "4. Around 6000 to 9000\n",
    "5. FT"
   ]
  }
 ],
 "metadata": {
  "kernelspec": {
   "display_name": "Python 3 (ipykernel)",
   "language": "python",
   "name": "python3"
  },
  "language_info": {
   "codemirror_mode": {
    "name": "ipython",
    "version": 3
   },
   "file_extension": ".py",
   "mimetype": "text/x-python",
   "name": "python",
   "nbconvert_exporter": "python",
   "pygments_lexer": "ipython3",
   "version": "3.10.3"
  }
 },
 "nbformat": 4,
 "nbformat_minor": 5
}
